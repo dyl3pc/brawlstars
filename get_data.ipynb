{
 "nbformat": 4,
 "nbformat_minor": 2,
 "metadata": {
  "language_info": {
   "name": "python",
   "codemirror_mode": {
    "name": "ipython",
    "version": 3
   },
   "version": "3.7.5-final"
  },
  "orig_nbformat": 2,
  "file_extension": ".py",
  "mimetype": "text/x-python",
  "name": "python",
  "npconvert_exporter": "python",
  "pygments_lexer": "ipython3",
  "version": 3,
  "kernelspec": {
   "name": "python37564bitbasecondaf5e7dff0abbd4ccebbc48c8ce1ea7a61",
   "display_name": "Python 3.7.5 64-bit ('base': conda)"
  }
 },
 "cells": [
  {
   "cell_type": "code",
   "execution_count": null,
   "metadata": {},
   "outputs": [],
   "source": [
    "import asyncio\n",
    "import client as async_client # the asynchronous inner workings is in client.py\n",
    "import pandas as pd\n",
    "import sqlite3\n",
    "import datetime\n",
    "from dateutil import tz\n",
    "import os"
   ]
  },
  {
   "cell_type": "code",
   "execution_count": null,
   "metadata": {},
   "outputs": [],
   "source": [
    "# get the battle logs this is the first time uses the leadboard as a seed\n",
    "database = \"databases/data\"\n",
    "client = async_client.Client(database)\n",
    "ids = await client.get_ids(\"medium\")\n",
    "client.add_battle_logs_to_database(ids)"
   ]
  },
  {
   "cell_type": "code",
   "execution_count": null,
   "metadata": {},
   "outputs": [],
   "source": [
    "# recursively get battle logs using the ids from the battle logs from the first piece of code\n",
    "database = \"databases/data\"\n",
    "client = async_client.Client(database)\n",
    "df = pd.read_sql(\"SELECT team1_player1_tag, team1_player2_tag, team1_player3_tag, team2_player1_tag, team2_player2_tag, team2_player3_tag from battle_logs\", con = sqlite3.connect(\"databases/old_data\"))\n",
    "ids = df.values.flatten()\n",
    "add_battle_logs_to_database(self, ids)"
   ]
  },
  {
   "cell_type": "code",
   "execution_count": null,
   "metadata": {},
   "outputs": [],
   "source": [
    "# becaouse there are too many games and it would take too long to get all information for all the player ids, filter for games that were above 600 trophies and store them into a cleaned database\n",
    "df = pd.read_sql(\"SELECT * from battle_logs\", sqlite3.connect(\"databases/data\"))\n",
    "df[\"hash\"] = df[\"time\"].apply(hash) + df[\"mode\"].apply(hash) + df[\"map\"].apply(hash)\n",
    "df = df.drop_duplicates(\"hash\")\n",
    "df[\"time\"] = pd.to_datetime(df[\"time\"], utc = True)\n",
    "df[\"time\"].dt.tz_convert(tz.tzlocal()).head()\n",
    "df = df[(df[[\"team1_player1_trophies\", \"team1_player2_trophies\", \"team1_player3_trophies\"]].max(axis = 1) > 600) & (df[[\"team2_player1_trophies\", \"team2_player2_trophies\", \"team2_player3_trophies\"]].max(axis = 1) > 600)]\n",
    "df.to_sql(\"battle_logs\", con = sqlite3.connect(\"databases/data2\"), if_exists = \"append\", index = False)"
   ]
  },
  {
   "cell_type": "code",
   "execution_count": null,
   "metadata": {},
   "outputs": [],
   "source": [
    "# run this block if it is the first time getting player information\n",
    "database = \"databases/data\"\n",
    "client = async_client.Client(database)\n",
    "df = pd.read_sql(\"SELECT team1_player1_tag, team1_player2_tag, team1_player3_tag, team2_player1_tag, team2_player2_tag, team2_player3_tag from battle_logs\", con = sqlite3.connect(\"databases/old_data\"))\n",
    "await client.add_player_data_to_databases(df.values.flatten())"
   ]
  },
  {
   "cell_type": "code",
   "execution_count": null,
   "metadata": {},
   "outputs": [],
   "source": [
    "# run this if the cell above timed out; adds the ids that have not been accessed yet\n",
    "database = \"databases/data\"\n",
    "client = async_client.Client(database)\n",
    "df = pd.read_sql(\"SELECT team1_player1_tag, team1_player2_tag, team1_player3_tag, team2_player1_tag, team2_player2_tag, team2_player3_tag from battle_logs\", con = sqlite3.connect(\"databases/old_data\"))\n",
    "df2 = pd.read_sql(\"SELECT * from players\", con = sqlite3.connect(\"databases/data\"))\n",
    "ids = set(df.values.flatten())\n",
    "already_finished_ids = df2[\"tag\"].values.flatten()\n",
    "already_finished_ids = set(already_finished_ids)\n",
    "ids = ids.difference(already_finished_ids)\n",
    "await client.add_player_data_to_databases(ids)"
   ]
  }
 ]
}