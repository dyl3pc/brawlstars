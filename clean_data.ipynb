{
 "nbformat": 4,
 "nbformat_minor": 2,
 "metadata": {
  "language_info": {
   "name": "python",
   "codemirror_mode": {
    "name": "ipython",
    "version": 3
   },
   "version": "3.7.5"
  },
  "orig_nbformat": 2,
  "file_extension": ".py",
  "mimetype": "text/x-python",
  "name": "python",
  "npconvert_exporter": "python",
  "pygments_lexer": "ipython3",
  "version": 3
 },
 "cells": [
  {
   "cell_type": "code",
   "execution_count": 1,
   "metadata": {},
   "outputs": [],
   "source": [
    "import pandas as pd\n",
    "import datetime\n",
    "from dateutil import tz\n",
    "import os\n",
    "import sqlite3\n",
    "import matplotlib.pyplot as plt\n",
    "import seaborn as sns\n",
    "import numpy as np \n",
    "conn = sqlite3.connect(\"databases/data\")\n",
    "%matplotlib inline"
   ]
  },
  {
   "cell_type": "code",
   "execution_count": 2,
   "metadata": {},
   "outputs": [
    {
     "data": {
      "text/plain": "1342700"
     },
     "execution_count": 2,
     "metadata": {},
     "output_type": "execute_result"
    }
   ],
   "source": [
    "# this is the number of games we have to work with (incldues duplicates)\n",
    "battle_logs = pd.read_sql(\"SELECT * FROM battle_logs\", conn)\n",
    "battle_logs = battle_logs[(battle_logs[\"mode\"] == \"brawlBall\") & (battle_logs[\"map\"] == \"Sunny Soccer\")]\n",
    "len(battle_logs)"
   ]
  },
  {
   "cell_type": "code",
   "execution_count": 3,
   "metadata": {},
   "outputs": [
    {
     "name": "stderr",
     "output_type": "stream",
     "text": "C:\\Users\\student\\Anaconda3\\lib\\site-packages\\ipykernel_launcher.py:4: SettingWithCopyWarning: \nA value is trying to be set on a copy of a slice from a DataFrame.\nTry using .loc[row_indexer,col_indexer] = value instead\n\nSee the caveats in the documentation: http://pandas.pydata.org/pandas-docs/stable/user_guide/indexing.html#returning-a-view-versus-a-copy\n  after removing the cwd from sys.path.\nC:\\Users\\student\\Anaconda3\\lib\\site-packages\\ipykernel_launcher.py:5: SettingWithCopyWarning: \nA value is trying to be set on a copy of a slice from a DataFrame.\nTry using .loc[row_indexer,col_indexer] = value instead\n\nSee the caveats in the documentation: http://pandas.pydata.org/pandas-docs/stable/user_guide/indexing.html#returning-a-view-versus-a-copy\n  \"\"\"\n"
    },
    {
     "data": {
      "text/plain": "33086"
     },
     "execution_count": 3,
     "metadata": {},
     "output_type": "execute_result"
    }
   ],
   "source": [
    "# this is the number of games we have to work with (no duplicates)\n",
    "\n",
    "def clean_df(df):\n",
    "    df[\"hash\"] = df[\"time\"].apply(hash) + df[\"mode\"].apply(hash) + df[\"map\"].apply(hash)\n",
    "    df = df.drop_duplicates(\"hash\")\n",
    "    df[\"time\"] = pd.to_datetime(df[\"time\"], utc = True)\n",
    "    df[\"time\"] = df[\"time\"].dt.tz_convert(tz.tzlocal())\n",
    "    df = df[(df[[\"team1_player1_trophies\", \"team1_player2_trophies\", \"team1_player3_trophies\"]].max(axis = 1) > 600)          & (df[[\"team2_player1_trophies\", \"team2_player2_trophies\", \"team2_player3_trophies\"]].max(axis = 1) > 600)]\n",
    "    return df\n",
    "battle_logs = clean_df(battle_logs)\n",
    "battle_logs.drop([\"time\", \"mode\", \"map\", \"type\", \"duration\", \"hash\"], axis = 1, inplace = True)\n",
    "len(battle_logs)"
   ]
  },
  {
   "cell_type": "code",
   "execution_count": 4,
   "metadata": {},
   "outputs": [],
   "source": [
    "# making the result column (the column we will try to predict)\n",
    "def first_team_result(row):\n",
    "    \"\"\"\n",
    "    only filp the result if the source player is in team2\n",
    "    \"\"\"\n",
    "    if row[\"source\"] in [row[\"team2_player1_tag\"], row[\"team2_player2_tag\"], row[\"team2_player3_tag\"]]:\n",
    "        if row[\"result\"] == \"victory\":\n",
    "            return \"defeat\"\n",
    "        if row[\"result\"] == \"defeat\":\n",
    "            return \"victory\"\n",
    "        return \"draw\"\n",
    "    else:\n",
    "        return row[\"result\"]\n",
    "battle_logs[\"result\"] = battle_logs.apply(first_team_result, axis = 1)"
   ]
  },
  {
   "cell_type": "code",
   "execution_count": 5,
   "metadata": {},
   "outputs": [],
   "source": [
    "# access the player data\n",
    "player_data = pd.read_sql(\"SELECT * FROM players\",conn)\n",
    "player_data.sort_values([\"tag\", \"time_accessed\"], ascending = False, inplace = True)\n",
    "player_data.drop_duplicates(\"tag\", inplace = True)\n",
    "\n",
    "player_brawler_data = pd.read_sql(\"SELECT * FROM brawler_highest_trophies\", conn)\n",
    "player_brawler_data.sort_values([\"player_id\", \"name\", \"time_accessed\"], ascending = False, inplace = True)\n",
    "player_brawler_data.drop_duplicates([\"player_id\", \"name\"], inplace = True)"
   ]
  },
  {
   "cell_type": "code",
   "execution_count": 6,
   "metadata": {},
   "outputs": [
    {
     "name": "stderr",
     "output_type": "stream",
     "text": "C:\\Users\\student\\Anaconda3\\lib\\site-packages\\pandas\\core\\frame.py:4238: SettingWithCopyWarning: \nA value is trying to be set on a copy of a slice from a DataFrame\n\nSee the caveats in the documentation: http://pandas.pydata.org/pandas-docs/stable/user_guide/indexing.html#returning-a-view-versus-a-copy\n  return super().rename(**kwargs)\n"
    }
   ],
   "source": [
    "# append the player data to the match df\n",
    "def add_attribute_from_player_table(df, new_attributes, team_num, player_num):\n",
    "    new_attributes[\"tag\"] = \"tag\"\n",
    "    player_data_attribute = player_data[list(new_attributes.keys())]\n",
    "    for attribute in new_attributes:\n",
    "        new_attribute = \"team{}_player{}_{}\".format(team_num, player_num, new_attributes[attribute])\n",
    "        player_data_attribute.rename(columns = {attribute:new_attribute}, inplace = True)\n",
    "    on = \"team{}_player{}_tag\".format(team_num, player_num)\n",
    "    return df.merge(player_data_attribute, on = on, how = \"left\")\n",
    "\n",
    "def add_highest_brawler_trophies(df, team_num, player_num):\n",
    "    player_brawler_df = player_brawler_data[[\"player_id\", \"name\", \"highestTrophies\"]]\n",
    "    new_columns = {\n",
    "        \"player_id\": \"team{}_player{}_tag\".format(team_num, player_num),\n",
    "        \"name\": \"team{}_player{}_brawler\".format(team_num, player_num),\n",
    "        \"highestTrophies\": \"team{}_player{}_highestBrawlerTrophies\".format(team_num, player_num)\n",
    "    }\n",
    "    player_brawler_df.rename(columns = new_columns, inplace = True)\n",
    "    on = [\"team{}_player{}_tag\".format(team_num, player_num), \"team{}_player{}_brawler\".format(team_num, player_num)]\n",
    "    return df.merge(player_brawler_df, on = on, how = \"left\")\n",
    "\n",
    "new_attributes = {\n",
    "    \"highestTrophies\": \"highestTotalTrophies\",\n",
    "    \"trophies\": \"totalTrophies\",\n",
    "    \"expPoints\": \"exp\",\n",
    "    \"highestPowerPlayPoints\": \"highestPowerPlay\",\n",
    "    \"3vs3Victories\": \"3vs3Victories\",\n",
    "    \"soloVictories\": \"soloVictories\",\n",
    "    \"duoVictories\": \"duoVictories\"\n",
    "}\n",
    "\n",
    "for team_num in [1,2]:\n",
    "    for player_num in [1,2,3]:\n",
    "        battle_logs = add_attribute_from_player_table(battle_logs, new_attributes, team_num, player_num)\n",
    "        battle_logs = add_highest_brawler_trophies(battle_logs, team_num, player_num)"
   ]
  },
  {
   "cell_type": "code",
   "execution_count": 7,
   "metadata": {},
   "outputs": [],
   "source": [
    "battle_logs.to_csv(\"data/full_battle_log.csv\")"
   ]
  }
 ]
}